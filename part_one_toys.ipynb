{
  "cells": [
    {
      "cell_type": "code",
      "execution_count": 2,
      "metadata": {
        "colab": {
          "base_uri": "https://localhost:8080/"
        },
        "id": "-8eFW_wl1n39",
        "outputId": "f07887c0-402a-492a-f609-fb8024c47a8e"
      },
      "outputs": [
        {
          "name": "stdout",
          "output_type": "stream",
          "text": [
            "\r0% [Working]\r            \rGet:1 https://cloud.r-project.org/bin/linux/ubuntu focal-cran40/ InRelease [3,622 B]\n",
            "\r0% [Connecting to archive.ubuntu.com] [Waiting for headers] [1 InRelease 0 B/3,\r0% [Connecting to archive.ubuntu.com] [Waiting for headers] [Waiting for header\r                                                                               \rGet:2 http://security.ubuntu.com/ubuntu focal-security InRelease [114 kB]\n",
            "\r0% [Connecting to archive.ubuntu.com (185.125.190.39)] [2 InRelease 14.2 kB/114\r0% [Connecting to archive.ubuntu.com (185.125.190.39)] [Waiting for headers] [W\r                                                                               \rGet:3 http://ppa.launchpad.net/c2d4u.team/c2d4u4.0+/ubuntu focal InRelease [18.1 kB]\n",
            "\r0% [Waiting for headers] [Waiting for headers] [3 InRelease 14.2 kB/18.1 kB 78%\r0% [Waiting for headers] [Waiting for headers] [3 InRelease 14.2 kB/18.1 kB 78%\r                                                                               \rIgn:4 https://developer.download.nvidia.com/compute/machine-learning/repos/ubuntu2004/x86_64  InRelease\n",
            "Hit:5 https://developer.download.nvidia.com/compute/cuda/repos/ubuntu2004/x86_64  InRelease\n",
            "Hit:6 https://developer.download.nvidia.com/compute/machine-learning/repos/ubuntu2004/x86_64  Release\n",
            "Hit:7 http://archive.ubuntu.com/ubuntu focal InRelease\n",
            "Get:8 http://archive.ubuntu.com/ubuntu focal-updates InRelease [114 kB]\n",
            "Hit:9 http://ppa.launchpad.net/cran/libgit2/ubuntu focal InRelease\n",
            "Hit:11 http://ppa.launchpad.net/deadsnakes/ppa/ubuntu focal InRelease\n",
            "Get:12 http://archive.ubuntu.com/ubuntu focal-backports InRelease [108 kB]\n",
            "Hit:13 http://ppa.launchpad.net/graphics-drivers/ppa/ubuntu focal InRelease\n",
            "Hit:14 http://ppa.launchpad.net/ubuntugis/ppa/ubuntu focal InRelease\n",
            "Get:15 http://archive.ubuntu.com/ubuntu focal-updates/main amd64 Packages [2,970 kB]\n",
            "Get:16 http://ppa.launchpad.net/c2d4u.team/c2d4u4.0+/ubuntu focal/main Sources [2,392 kB]\n",
            "Get:17 http://archive.ubuntu.com/ubuntu focal-updates/universe amd64 Packages [1,299 kB]\n",
            "Get:18 http://ppa.launchpad.net/c2d4u.team/c2d4u4.0+/ubuntu focal/main amd64 Packages [1,134 kB]\n",
            "Fetched 8,152 kB in 2s (3,679 kB/s)\n",
            "Reading package lists... Done\n"
          ]
        }
      ],
      "source": [
        "# Activate Spark in our Colab notebook.\n",
        "import os\n",
        "# Find the latest version of spark 3.2  from http://www.apache.org/dist/spark/ and enter as the spark version\n",
        "# For example:\n",
        "# spark_version = 'spark-3.2.2'\n",
        "spark_version = 'spark-3.2.3'\n",
        "os.environ['SPARK_VERSION']=spark_version\n",
        "\n",
        "# Install Spark and Java\n",
        "!apt-get update\n",
        "!apt-get install openjdk-11-jdk-headless -qq > /dev/null\n",
        "!wget -q http://www.apache.org/dist/spark/$SPARK_VERSION/$SPARK_VERSION-bin-hadoop2.7.tgz\n",
        "!tar xf $SPARK_VERSION-bin-hadoop2.7.tgz\n",
        "!pip install -q findspark\n",
        "\n",
        "# Set Environment Variables\n",
        "import os\n",
        "os.environ[\"JAVA_HOME\"] = \"/usr/lib/jvm/java-11-openjdk-amd64\"\n",
        "os.environ[\"SPARK_HOME\"] = f\"/content/{spark_version}-bin-hadoop2.7\"\n",
        "\n",
        "# Start a SparkSession\n",
        "import findspark\n",
        "findspark.init()"
      ]
    },
    {
      "cell_type": "code",
      "execution_count": 3,
      "metadata": {
        "colab": {
          "base_uri": "https://localhost:8080/"
        },
        "id": "BzCrgs0Z1rnw",
        "outputId": "315edb0e-065a-44e5-b7f5-f8271b312c27"
      },
      "outputs": [
        {
          "name": "stdout",
          "output_type": "stream",
          "text": [
            "--2023-02-23 13:16:41--  https://jdbc.postgresql.org/download/postgresql-42.2.9.jar\n",
            "Resolving jdbc.postgresql.org (jdbc.postgresql.org)... 72.32.157.228, 2001:4800:3e1:1::228\n",
            "Connecting to jdbc.postgresql.org (jdbc.postgresql.org)|72.32.157.228|:443... connected.\n",
            "HTTP request sent, awaiting response... 200 OK\n",
            "Length: 914037 (893K) [application/java-archive]\n",
            "Saving to: ‘postgresql-42.2.9.jar’\n",
            "\n",
            "postgresql-42.2.9.j 100%[===================>] 892.61K  4.91MB/s    in 0.2s    \n",
            "\n",
            "2023-02-23 13:16:41 (4.91 MB/s) - ‘postgresql-42.2.9.jar’ saved [914037/914037]\n",
            "\n"
          ]
        }
      ],
      "source": [
        "# Get postgresql package\n",
        "!wget https://jdbc.postgresql.org/download/postgresql-42.2.9.jar"
      ]
    },
    {
      "cell_type": "code",
      "execution_count": 4,
      "metadata": {
        "id": "0DuBth0V2PR8"
      },
      "outputs": [],
      "source": [
        "# Import Spark and create a SparkSession\n",
        "from pyspark.sql import SparkSession\n",
        "spark = SparkSession.builder.appName(\"BigData-HW-1\").config(\"spark.driver.extraClassPath\",\"/content/postgresql-42.2.9.jar\").getOrCreate()"
      ]
    },
    {
      "cell_type": "markdown",
      "metadata": {
        "id": "D3W2XJVi2CU-"
      },
      "source": [
        "# Extract the Amazon Data into Spark DataFrame"
      ]
    },
    {
      "cell_type": "code",
      "execution_count": 5,
      "metadata": {
        "colab": {
          "base_uri": "https://localhost:8080/"
        },
        "id": "Na_stw7b1wfU",
        "outputId": "9dea024b-8974-4645-f3aa-8999bedf8b65"
      },
      "outputs": [
        {
          "name": "stdout",
          "output_type": "stream",
          "text": [
            "+-----------+-----------+--------------+----------+--------------+--------------------+----------------+-----------+-------------+-----------+----+-----------------+--------------------+--------------------+-----------+\n",
            "|marketplace|customer_id|     review_id|product_id|product_parent|       product_title|product_category|star_rating|helpful_votes|total_votes|vine|verified_purchase|     review_headline|         review_body|review_date|\n",
            "+-----------+-----------+--------------+----------+--------------+--------------------+----------------+-----------+-------------+-----------+----+-----------------+--------------------+--------------------+-----------+\n",
            "|         US|   18778586| RDIJS7QYB6XNR|B00EDBY7X8|     122952789|Monopoly Junior B...|            Toys|          5|            0|          0|   N|                Y|          Five Stars|        Excellent!!!| 2015-08-31|\n",
            "|         US|   24769659|R36ED1U38IELG8|B00D7JFOPC|     952062646|56 Pieces of Wood...|            Toys|          5|            0|          0|   N|                Y|Good quality trac...|Great quality woo...| 2015-08-31|\n",
            "|         US|   44331596| R1UE3RPRGCOLD|B002LHA74O|     818126353|Super Jumbo Playi...|            Toys|          2|            1|          1|   N|                Y|           Two Stars|Cards are not as ...| 2015-08-31|\n",
            "|         US|   23310293|R298788GS6I901|B00ARPLCGY|     261944918|Barbie Doll and F...|            Toys|          5|            0|          0|   N|                Y|my daughter loved...|my daughter loved...| 2015-08-31|\n",
            "|         US|   38745832|  RNX4EXOBBPN5|B00UZOPOFW|     717410439|Emazing Lights eL...|            Toys|          1|            1|          1|   N|                Y|     DONT BUY THESE!|Do not buy these!...| 2015-08-31|\n",
            "|         US|   13394189|R3BPETL222LMIM|B009B7F6CA|     873028700|Melissa & Doug Wa...|            Toys|          5|            0|          0|   N|                Y|          Five Stars|Great item. Pictu...| 2015-08-31|\n",
            "|         US|    2749569|R3SORMPJZO3F2J|B0101EHRSM|     723424342|Big Bang Cosmic P...|            Toys|          3|            2|          2|   N|                Y|         Three Stars|To keep together,...| 2015-08-31|\n",
            "|         US|   41137196|R2RDOJQ0WBZCF6|B00407S11Y|     383363775|Fun Express Insec...|            Toys|          5|            0|          0|   N|                Y|          Five Stars|I was pleased wit...| 2015-08-31|\n",
            "|         US|     433677|R2B8VBEPB4YEZ7|B00FGPU7U2|     780517568|Fisher-Price Octo...|            Toys|          5|            0|          0|   N|                Y|          Five Stars|    Children like it| 2015-08-31|\n",
            "|         US|    1297934|R1CB783I7B0U52|B0013OY0S0|     269360126|Claw Climber Goli...|            Toys|          1|            0|          1|   N|                Y|Shame on the sell...|Showed up not how...| 2015-08-31|\n",
            "|         US|   52006292| R2D90RQQ3V8LH|B00519PJTW|     493486387|100 Foot Multicol...|            Toys|          5|            0|          0|   N|                Y|          Five Stars|Really liked thes...| 2015-08-31|\n",
            "|         US|   32071052|R1Y4ZOUGFMJ327|B001TCY2DO|     459122467|Pig Jumbo Foil Ba...|            Toys|          5|            0|          0|   N|                Y|   Nice huge balloon|Nice huge balloon...| 2015-08-31|\n",
            "|         US|    7360347|R2BUV9QJI2A00X|B00DOQCWF8|     226984155|Minecraft Animal ...|            Toys|          5|            0|          1|   N|                Y|          Five Stars|          Great deal| 2015-08-31|\n",
            "|         US|   11613707| RSUHRJFJIRB3Z|B004C04I4I|     375659886|Disney Baby: Eeyo...|            Toys|          4|            0|          0|   N|                Y|          Four Stars|       As Advertised| 2015-08-31|\n",
            "|         US|   13545982|R1T96CG98BBA15|B00NWGEKBY|     933734136|Team Losi 8IGHT-E...|            Toys|          3|            2|          4|   N|                Y|... servo so expe...|Comes w a 15$ ser...| 2015-08-31|\n",
            "|         US|   43880421| R2ATXF4QQ30YW|B00000JS5S|     341842639|Hot Wheels 48- Ca...|            Toys|          5|            0|          0|   N|                Y|          Five Stars|   awesome ! Thanks!| 2015-08-31|\n",
            "|         US|    1662075|R1YS3DS218NNMD|B00XPWXYDK|     210135375|ZuZo 2.4GHz 4 CH ...|            Toys|          5|            4|          4|   N|                N|The closest relev...|I got this item f...| 2015-08-31|\n",
            "|         US|   18461411|R2SDXLTLF92O0H|B00VPXX92W|     705054378|Teenage Mutant Ni...|            Toys|          5|            0|          0|   N|                Y|          Five Stars|It was a birthday...| 2015-08-31|\n",
            "|         US|   27225859| R4R337CCDWLNG|B00YRA3H4U|     223420727|Franklin Sports M...|            Toys|          3|            0|          1|   Y|                N|Got wrong product...|Got a wrong produ...| 2015-08-31|\n",
            "|         US|   20494593|R32Z6UA4S5Q630|B009T8BSQY|     787701676|Alien Frontiers: ...|            Toys|          1|            0|          0|   N|                Y|         Overpriced.|You need expansio...| 2015-08-31|\n",
            "+-----------+-----------+--------------+----------+--------------+--------------------+----------------+-----------+-------------+-----------+----+-----------------+--------------------+--------------------+-----------+\n",
            "only showing top 20 rows\n",
            "\n"
          ]
        }
      ],
      "source": [
        "# Read in the data from an S3 Bucket\n",
        "from pyspark import SparkFiles\n",
        "url= \"https://s3.amazonaws.com/amazon-reviews-pds/tsv/amazon_reviews_us_Toys_v1_00.tsv.gz\"\n",
        "spark.sparkContext.addFile(url)\n",
        "toy_review_data_df= spark.read.csv(SparkFiles.get(\"amazon_reviews_us_Toys_v1_00.tsv.gz\"), sep=\"\\t\", header=True, inferSchema=True)\n",
        "toy_review_data_df.show()\n",
        "\n",
        "\n"
      ]
    },
    {
      "cell_type": "code",
      "execution_count": 6,
      "metadata": {
        "colab": {
          "base_uri": "https://localhost:8080/"
        },
        "id": "Cayz-3Q52IM3",
        "outputId": "59753f68-2da5-4a18-a406-d26228a5f92c"
      },
      "outputs": [
        {
          "name": "stdout",
          "output_type": "stream",
          "text": [
            "DataFrame Rows count : 4864249\n"
          ]
        }
      ],
      "source": [
        "# Get the number of rows in the DataFrame.\n",
        "rows = toy_review_data_df.count()\n",
        "print(f\"DataFrame Rows count : {rows}\")\n"
      ]
    },
    {
      "cell_type": "markdown",
      "metadata": {
        "id": "C9U0rkGZ2eu7"
      },
      "source": [
        "# Transform the Data"
      ]
    },
    {
      "cell_type": "markdown",
      "metadata": {
        "id": "dUoftWoKtM_c"
      },
      "source": [
        "## Create the \"review_id_table\"."
      ]
    },
    {
      "cell_type": "code",
      "execution_count": 7,
      "metadata": {
        "colab": {
          "base_uri": "https://localhost:8080/"
        },
        "id": "2tMYkSIk2d-m",
        "outputId": "23b4fc14-14f3-48a6-bda5-a265022e054a"
      },
      "outputs": [
        {
          "name": "stdout",
          "output_type": "stream",
          "text": [
            "+--------------+-----------+----------+--------------+-----------+\n",
            "|     review_id|customer_id|product_id|product_parent|review_date|\n",
            "+--------------+-----------+----------+--------------+-----------+\n",
            "| RDIJS7QYB6XNR|   18778586|B00EDBY7X8|     122952789| 2015-08-31|\n",
            "|R36ED1U38IELG8|   24769659|B00D7JFOPC|     952062646| 2015-08-31|\n",
            "| R1UE3RPRGCOLD|   44331596|B002LHA74O|     818126353| 2015-08-31|\n",
            "|R298788GS6I901|   23310293|B00ARPLCGY|     261944918| 2015-08-31|\n",
            "|  RNX4EXOBBPN5|   38745832|B00UZOPOFW|     717410439| 2015-08-31|\n",
            "|R3BPETL222LMIM|   13394189|B009B7F6CA|     873028700| 2015-08-31|\n",
            "|R3SORMPJZO3F2J|    2749569|B0101EHRSM|     723424342| 2015-08-31|\n",
            "|R2RDOJQ0WBZCF6|   41137196|B00407S11Y|     383363775| 2015-08-31|\n",
            "|R2B8VBEPB4YEZ7|     433677|B00FGPU7U2|     780517568| 2015-08-31|\n",
            "|R1CB783I7B0U52|    1297934|B0013OY0S0|     269360126| 2015-08-31|\n",
            "| R2D90RQQ3V8LH|   52006292|B00519PJTW|     493486387| 2015-08-31|\n",
            "|R1Y4ZOUGFMJ327|   32071052|B001TCY2DO|     459122467| 2015-08-31|\n",
            "|R2BUV9QJI2A00X|    7360347|B00DOQCWF8|     226984155| 2015-08-31|\n",
            "| RSUHRJFJIRB3Z|   11613707|B004C04I4I|     375659886| 2015-08-31|\n",
            "|R1T96CG98BBA15|   13545982|B00NWGEKBY|     933734136| 2015-08-31|\n",
            "| R2ATXF4QQ30YW|   43880421|B00000JS5S|     341842639| 2015-08-31|\n",
            "|R1YS3DS218NNMD|    1662075|B00XPWXYDK|     210135375| 2015-08-31|\n",
            "|R2SDXLTLF92O0H|   18461411|B00VPXX92W|     705054378| 2015-08-31|\n",
            "| R4R337CCDWLNG|   27225859|B00YRA3H4U|     223420727| 2015-08-31|\n",
            "|R32Z6UA4S5Q630|   20494593|B009T8BSQY|     787701676| 2015-08-31|\n",
            "+--------------+-----------+----------+--------------+-----------+\n",
            "only showing top 20 rows\n",
            "\n"
          ]
        }
      ],
      "source": [
        "from pyspark.sql.functions import to_date\n",
        "# Create the \"review_id_df\" DataFrame with the appropriate columns and data types.\n",
        "review_id_df = toy_review_data_df.select([\"review_id\",\"customer_id\",\"product_id\",\"product_parent\",\n",
        "                                          to_date(\"review_date\",\"yyyy-MM-dd\").alias(\"review_date\")])\n",
        "review_id_df.show()\n"
      ]
    },
    {
      "cell_type": "markdown",
      "metadata": {
        "id": "aAVCFjXhtXO8"
      },
      "source": [
        "## Create the \"products\" Table"
      ]
    },
    {
      "cell_type": "code",
      "execution_count": 8,
      "metadata": {
        "colab": {
          "base_uri": "https://localhost:8080/"
        },
        "id": "g9gTNhT62je4",
        "outputId": "0f349a24-2196-4fcc-f49b-0f292f854c9d"
      },
      "outputs": [
        {
          "name": "stdout",
          "output_type": "stream",
          "text": [
            "+----------+--------------------+\n",
            "|product_id|       product_title|\n",
            "+----------+--------------------+\n",
            "|0000191639|Dr. Suess 19163 D...|\n",
            "|0042000742|Reversi Sensory C...|\n",
            "|0060829656|The Girl from Cha...|\n",
            "|0099751828|7\" Russ Berrie Li...|\n",
            "|0198486898|Numicon: First St...|\n",
            "|0279515766|Vintage 1982 Stra...|\n",
            "|0293000018|AK-47 Electric Sp...|\n",
            "|0298765578|Sega Sonic the He...|\n",
            "|0298765926|CHAX GP All Purpo...|\n",
            "|0298766124|Super Mario Yoshi...|\n",
            "|0298766590|Nemuneko Cute Plu...|\n",
            "|0298770210|Inu x Boku SS Wat...|\n",
            "|029877044X|Pokemon XY Korott...|\n",
            "|0298770601|Gloomy Bear Big P...|\n",
            "|0298770954|Free! Rin Matsuok...|\n",
            "|0307042367|Shrieks And Creak...|\n",
            "|0307090256|Silver Dollar Folder|\n",
            "|0307136000|Powerpuff Girls F...|\n",
            "|0307450880|Wizard of Oz Puzz...|\n",
            "|0375829695|Dr. Seuss Jigsaw ...|\n",
            "+----------+--------------------+\n",
            "only showing top 20 rows\n",
            "\n"
          ]
        }
      ],
      "source": [
        "# Create the \"products_df\" DataFrame that drops the duplicates in the \"product_id\" and \"product_title columns. \n",
        "products_df = toy_review_data_df.select([\"product_id\",\"product_title\"]).drop_duplicates([\"product_id\"])\n",
        "\n",
        "products_df.show()\n"
      ]
    },
    {
      "cell_type": "markdown",
      "metadata": {
        "id": "LJHuZ9zut0e5"
      },
      "source": [
        "## Create the \"customers\" Table"
      ]
    },
    {
      "cell_type": "code",
      "execution_count": 9,
      "metadata": {
        "colab": {
          "base_uri": "https://localhost:8080/"
        },
        "id": "_pF2Vf3c2n2O",
        "outputId": "394c7634-64bf-4c0b-ce77-874e371fc3e3"
      },
      "outputs": [
        {
          "name": "stdout",
          "output_type": "stream",
          "text": [
            "+-----------+--------------+\n",
            "|customer_id|customer_count|\n",
            "+-----------+--------------+\n",
            "|   16989307|             1|\n",
            "|   45632184|             2|\n",
            "|   14703850|            13|\n",
            "|   49645387|             2|\n",
            "|   16343477|             1|\n",
            "|   15554899|             1|\n",
            "|   17067926|             1|\n",
            "|   50843047|             2|\n",
            "|    4051424|             1|\n",
            "|   11487525|             1|\n",
            "|   19371753|             1|\n",
            "|   18634862|             1|\n",
            "|   14552054|             1|\n",
            "|   52695798|             1|\n",
            "|   49438424|             3|\n",
            "|   10854449|             9|\n",
            "|   48521319|             1|\n",
            "|   11839424|             2|\n",
            "|   27887950|             1|\n",
            "|   45392827|             3|\n",
            "+-----------+--------------+\n",
            "only showing top 20 rows\n",
            "\n"
          ]
        }
      ],
      "source": [
        "# Create the \"customers_df\" DataFrame that groups the data on the \"customer_id\" by the number of times a customer reviewed a product. \n",
        "# customers_df = toy_review_data_df.select([\"customer_id\",\"customer_count\"])\n",
        "# customers_df.show()\n",
        "from pyspark.sql.functions import sum,avg,max,count\n",
        "customers_df = toy_review_data_df.groupby('customer_id').agg(count(\"*\").alias(\"customer_count\"))\n",
        "customers_df.show()\n",
        "\n"
      ]
    },
    {
      "cell_type": "markdown",
      "metadata": {
        "id": "8SbTasxbuXGK"
      },
      "source": [
        "## Create the \"vine_table\"."
      ]
    },
    {
      "cell_type": "code",
      "execution_count": 10,
      "metadata": {
        "colab": {
          "base_uri": "https://localhost:8080/"
        },
        "id": "WHQKbmCE2p3Q",
        "outputId": "7de749c4-a9eb-4db1-c4c7-c67b546f6135"
      },
      "outputs": [
        {
          "name": "stdout",
          "output_type": "stream",
          "text": [
            "+--------------+-----------+-------------+-----------+----+\n",
            "|     review_id|star_rating|helpful_votes|total_votes|vine|\n",
            "+--------------+-----------+-------------+-----------+----+\n",
            "| RDIJS7QYB6XNR|          5|            0|          0|   N|\n",
            "|R36ED1U38IELG8|          5|            0|          0|   N|\n",
            "| R1UE3RPRGCOLD|          2|            1|          1|   N|\n",
            "|R298788GS6I901|          5|            0|          0|   N|\n",
            "|  RNX4EXOBBPN5|          1|            1|          1|   N|\n",
            "|R3BPETL222LMIM|          5|            0|          0|   N|\n",
            "|R3SORMPJZO3F2J|          3|            2|          2|   N|\n",
            "|R2RDOJQ0WBZCF6|          5|            0|          0|   N|\n",
            "|R2B8VBEPB4YEZ7|          5|            0|          0|   N|\n",
            "|R1CB783I7B0U52|          1|            0|          1|   N|\n",
            "| R2D90RQQ3V8LH|          5|            0|          0|   N|\n",
            "|R1Y4ZOUGFMJ327|          5|            0|          0|   N|\n",
            "|R2BUV9QJI2A00X|          5|            0|          1|   N|\n",
            "| RSUHRJFJIRB3Z|          4|            0|          0|   N|\n",
            "|R1T96CG98BBA15|          3|            2|          4|   N|\n",
            "| R2ATXF4QQ30YW|          5|            0|          0|   N|\n",
            "|R1YS3DS218NNMD|          5|            4|          4|   N|\n",
            "|R2SDXLTLF92O0H|          5|            0|          0|   N|\n",
            "| R4R337CCDWLNG|          3|            0|          1|   Y|\n",
            "|R32Z6UA4S5Q630|          1|            0|          0|   N|\n",
            "+--------------+-----------+-------------+-----------+----+\n",
            "only showing top 20 rows\n",
            "\n"
          ]
        }
      ],
      "source": [
        "# Create the \"vine_df\" DataFrame that has the \"review_id\", \"star_rating\", \"helpful_votes\", \"total_votes\", and \"vine\" columns. \n",
        "vine_df = toy_review_data_df.select([\"review_id\",\"star_rating\",\"helpful_votes\",\"total_votes\",\"vine\"])\n",
        "vine_df.show()"
      ]
    },
    {
      "cell_type": "markdown",
      "metadata": {
        "id": "I8aTsEjZ2s6L"
      },
      "source": [
        "# Load"
      ]
    },
    {
      "cell_type": "code",
      "execution_count": 11,
      "metadata": {
        "id": "W4dzUKfI2vXM"
      },
      "outputs": [],
      "source": [
        "mode = \"append\"\n",
        "jdbc_url=\"jdbc:postgresql://endpoint\"\n",
        "config = {\"user\":\"root\", \"password\": <password>, \"driver\":\"org.postgresql.Driver\"}"
      ]
    },
    {
      "cell_type": "code",
      "execution_count": 14,
      "metadata": {
        "id": "iOxKqMsD2yVs"
      },
      "outputs": [],
      "source": [
        "# Write review_id_df to table in RDS\n",
        "review_id_df.write.jdbc(url=jdbc_url, table='review_id_table', mode=mode, properties=config)"
      ]
    },
    {
      "cell_type": "code",
      "execution_count": 12,
      "metadata": {
        "id": "pPXyGVE-2yPJ"
      },
      "outputs": [],
      "source": [
        "# Write products_df to table in RDS\n",
        "products_df.write.jdbc(url=jdbc_url, table='products', mode=mode, properties=config)"
      ]
    },
    {
      "cell_type": "code",
      "execution_count": 15,
      "metadata": {
        "id": "aHbca4zN2yIa"
      },
      "outputs": [],
      "source": [
        "# Write customers_df to table in RDS\n",
        "customers_df .write.jdbc(url=jdbc_url, table='customers', mode=mode, properties=config)"
      ]
    },
    {
      "cell_type": "code",
      "execution_count": 16,
      "metadata": {
        "id": "2HfOFneW2x_F"
      },
      "outputs": [],
      "source": [
        "# Write vine_df to table in RDS\n",
        "vine_df .write.jdbc(url=jdbc_url, table='vine_table', mode=mode, properties=config)"
      ]
    }
  ],
  "metadata": {
    "colab": {
      "provenance": []
    },
    "kernelspec": {
      "display_name": "base",
      "language": "python",
      "name": "python3"
    },
    "language_info": {
      "codemirror_mode": {
        "name": "ipython",
        "version": 3
      },
      "file_extension": ".py",
      "mimetype": "text/x-python",
      "name": "python",
      "nbconvert_exporter": "python",
      "pygments_lexer": "ipython3",
      "version": "3.9.7"
    },
    "vscode": {
      "interpreter": {
        "hash": "550d63129b2b7c526197e37d95b9b666d2b82a92616c75a5e48aec5335023785"
      }
    }
  },
  "nbformat": 4,
  "nbformat_minor": 0
}
